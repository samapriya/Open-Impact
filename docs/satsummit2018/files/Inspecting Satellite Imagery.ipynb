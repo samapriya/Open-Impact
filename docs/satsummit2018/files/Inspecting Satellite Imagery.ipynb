{
 "cells": [
  {
   "cell_type": "markdown",
   "metadata": {},
   "source": [
    "# Inspecting Satellite Imagery using Rasterio\n",
    "## A first look at satellite data with Python\n",
    "\n",
    "At this point, you will have learned different ways of searching for, filtering, and downloading satellite imagery. Now let's use one of these acquired datasets and dig into it a bit with Python.\n",
    "\n",
    "Here we're going to use a Python library called `rasterio`: you may be familiar with it already, or perhaps with the related C library, `GDAL`. If you've used `numpy` before, working with `rasterio` will feel very familiar."
   ]
  },
  {
   "cell_type": "code",
   "execution_count": null,
   "metadata": {},
   "outputs": [],
   "source": [
    "import rasterio\n",
    "\n",
    "# feel free to replace 'example' with your own GeoTIFF:\n",
    "# note that this Notebook will assume we're working with PlanetScope 4-band imagery\n",
    "image_file = \"example.tif\"\n",
    "\n",
    "satdat = rasterio.open(image_file)"
   ]
  },
  {
   "cell_type": "markdown",
   "metadata": {},
   "source": [
    "## Basic details\n",
    "What can we learn about this satellite image using just Python?"
   ]
  },
  {
   "cell_type": "code",
   "execution_count": null,
   "metadata": {},
   "outputs": [],
   "source": [
    "# Get the bounding box of this GeoTIFF\n",
    "\n",
    "satdat.bounds"
   ]
  },
  {
   "cell_type": "code",
   "execution_count": null,
   "metadata": {},
   "outputs": [],
   "source": [
    "# Get dimensions, in map units (using the example GeoTIFF, that's meters)\n",
    "\n",
    "width = satdat.bounds.right - satdat.bounds.left\n",
    "height = satdat.bounds.top - satdat.bounds.bottom\n",
    "\n",
    "print(\"Width: {}, Height: {}\".format(width, height))"
   ]
  },
  {
   "cell_type": "code",
   "execution_count": null,
   "metadata": {},
   "outputs": [],
   "source": [
    "# Get dimensions, in pixels\n",
    "\n",
    "px_width = satdat.width\n",
    "px_height = satdat.height\n",
    "print(\"Width: {}, Height: {}\".format(px_width, px_height))"
   ]
  },
  {
   "cell_type": "code",
   "execution_count": null,
   "metadata": {},
   "outputs": [],
   "source": [
    "# How many meters to a pixel?\n",
    "\n",
    "w = width / px_width\n",
    "h = height / px_height\n",
    "\n",
    "w, h"
   ]
  },
  {
   "cell_type": "code",
   "execution_count": null,
   "metadata": {},
   "outputs": [],
   "source": [
    "# Get coordinate reference system\n",
    "\n",
    "satdat.crs"
   ]
  },
  {
   "cell_type": "code",
   "execution_count": null,
   "metadata": {},
   "outputs": [],
   "source": [
    "# Get coordinates of top-left & bottom right corners\n",
    "\n",
    "# NOTE: how to do this depends on your Rasterio version --\n",
    "# if you're running against a pre-1.0 release use satdat.affine instead\n",
    "\n",
    "topleft = satdat.transform * (0, 0)\n",
    "botright = satdat.transform * (width, height)\n",
    "    \n",
    "print(\"Top left corner coordinates: {}\".format(topleft))\n",
    "print(\"Bottom right corner coordinates: {}\".format(botright))"
   ]
  },
  {
   "cell_type": "code",
   "execution_count": null,
   "metadata": {},
   "outputs": [],
   "source": [
    "# Another way of viewing most of the previous values:\n",
    "# Get the basic metadata of this GeoTIFF\n",
    "\n",
    "satdat.meta"
   ]
  },
  {
   "cell_type": "markdown",
   "metadata": {},
   "source": [
    "## Bands\n",
    "So far, we haven't done too much geospatial-raster-specific work yet. Since we know we're inspecting a multispectral satellite image, let's see what we can learn about its bands."
   ]
  },
  {
   "cell_type": "code",
   "execution_count": null,
   "metadata": {},
   "outputs": [],
   "source": [
    "# Get the number of bands by listing their indices\n",
    "\n",
    "satdat.indexes"
   ]
  },
  {
   "cell_type": "markdown",
   "metadata": {},
   "source": [
    "Because we know we're look at a PlanetScope 4-band analytic satellite image, we can define the bands by their order:"
   ]
  },
  {
   "cell_type": "code",
   "execution_count": null,
   "metadata": {},
   "outputs": [],
   "source": [
    "# PlanetScope 4-band band order: BGRN\n",
    "\n",
    "blue = satdat.read(1)\n",
    "green = satdat.read(2)\n",
    "red = satdat.read(3)\n",
    "nir = satdat.read(4)\n",
    "\n",
    "# or:\n",
    "# blue, green, red, nir = satdat.read()"
   ]
  },
  {
   "cell_type": "markdown",
   "metadata": {},
   "source": [
    "## Pixels\n",
    "\n",
    "In a raster dataset, each pixel has a value. Pixels are arranged in a grid, and pixels representing equivalent data have the same value:\n",
    "\n",
    "![pixels2.png](pixels2.png)"
   ]
  },
  {
   "cell_type": "code",
   "execution_count": null,
   "metadata": {},
   "outputs": [],
   "source": [
    "# bands are stored as numpy arrays\n",
    "\n",
    "print(type(blue))"
   ]
  },
  {
   "cell_type": "code",
   "execution_count": null,
   "metadata": {},
   "outputs": [],
   "source": [
    "# how many dimensions would a raster have?\n",
    "\n",
    "print(blue.ndim)"
   ]
  },
  {
   "cell_type": "code",
   "execution_count": null,
   "metadata": {},
   "outputs": [],
   "source": [
    "# take a look at the summarized array\n",
    "\n",
    "print(blue)"
   ]
  },
  {
   "cell_type": "code",
   "execution_count": null,
   "metadata": {},
   "outputs": [],
   "source": [
    "# Output a min & max pixel value in each band\n",
    "\n",
    "# we'll need to use numpy directly for this\n",
    "import numpy\n",
    "\n",
    "print(numpy.amin(blue), numpy.amax(blue))\n",
    "print(numpy.amin(green), numpy.amax(green))\n",
    "print(numpy.amin(red), numpy.amax(red))\n",
    "print(numpy.amin(nir), numpy.amax(nir))"
   ]
  },
  {
   "cell_type": "code",
   "execution_count": null,
   "metadata": {},
   "outputs": [],
   "source": [
    "# Let's grab the pixel 2km east and 2km south of the upper left corner\n",
    "\n",
    "# get the pixel \n",
    "px_x = satdat.bounds.left + 2000\n",
    "px_y = satdat.bounds.top - 2000\n",
    "\n",
    "row, col = satdat.index(px_x, px_y)\n",
    "\n",
    "# Now let's look at the value of each band at this pixel\n",
    "print(\"Red: {}\".format(red[row, col]))\n",
    "print(\"Green: {}\".format(green[row, col]))\n",
    "print(\"Blue: {}\".format(blue[row, col]))\n",
    "print(\"NIR: {}\".format(nir[row, col]))"
   ]
  }
 ],
 "metadata": {
  "kernelspec": {
   "display_name": "Python 3",
   "language": "python",
   "name": "python3"
  },
  "language_info": {
   "codemirror_mode": {
    "name": "ipython",
    "version": 3
   },
   "file_extension": ".py",
   "mimetype": "text/x-python",
   "name": "python",
   "nbconvert_exporter": "python",
   "pygments_lexer": "ipython3",
   "version": "3.6.3"
  }
 },
 "nbformat": 4,
 "nbformat_minor": 2
}
