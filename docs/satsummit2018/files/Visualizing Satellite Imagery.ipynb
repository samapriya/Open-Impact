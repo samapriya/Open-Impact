{
 "cells": [
  {
   "cell_type": "markdown",
   "metadata": {},
   "source": [
    "# Visualizing Satellite Imagery with Matplotlib\n",
    "## Taking a closer look at satellite data with Python\n",
    "\n",
    "In the [Inspecting Satellite Imagery Notebook](Inspecting Satellite Imagery.ipynb), we learned how to use `rasterio` to read and manipulate satellite data. There we also learned that, since satellite images are really grids of pixel-values, a satellite image can be interpreted as a multidimensional array of values.\n",
    "\n",
    "You may already be familiar with the Python library `matplotlib`: here, we're going to briefly use that toolset to visually plot satellite data that has been read into a numpy array using `rasterio`."
   ]
  },
  {
   "cell_type": "code",
   "execution_count": null,
   "metadata": {},
   "outputs": [],
   "source": [
    "import rasterio\n",
    "from matplotlib import pyplot as plt\n",
    "\n",
    "# feel free to replace 'example' with your own GeoTIFF:\n",
    "# note that this Notebook will assume we're working with PlanetScope 4-band imagery\n",
    "image_file = \"example.tif\"\n",
    "\n",
    "# use rasterio to read in the satellite image\n",
    "satdat = rasterio.open(image_file)"
   ]
  },
  {
   "cell_type": "code",
   "execution_count": null,
   "metadata": {},
   "outputs": [],
   "source": [
    "# load the 4 bands into 2d arrays - recall that we previously learned PlanetScope band order is BGRN\n",
    "b, g, r, n = satdat.read()"
   ]
  },
  {
   "cell_type": "code",
   "execution_count": null,
   "metadata": {},
   "outputs": [],
   "source": [
    "# use imshow to load the blue band\n",
    "fig = plt.imshow(b)\n",
    "\n",
    "# Display the results\n",
    "plt.show()"
   ]
  },
  {
   "cell_type": "code",
   "execution_count": null,
   "metadata": {},
   "outputs": [],
   "source": [
    "# now let's plot the green band, and add a color map\n",
    "# https://matplotlib.org/users/colormaps.html\n",
    "\n",
    "fig = plt.imshow(g)\n",
    "fig.set_cmap('gist_earth')\n",
    "\n",
    "# Display the results\n",
    "plt.show()"
   ]
  },
  {
   "cell_type": "code",
   "execution_count": null,
   "metadata": {},
   "outputs": [],
   "source": [
    "# add a colorbar, and plot the red band\n",
    "\n",
    "fig = plt.imshow(r)\n",
    "fig.set_cmap('inferno')\n",
    "plt.colorbar()\n",
    "\n",
    "# Display the results\n",
    "plt.show()"
   ]
  },
  {
   "cell_type": "code",
   "execution_count": null,
   "metadata": {},
   "outputs": [],
   "source": [
    "# finally, we'll plot the NIR band and since axis labels are useless here, let's turn them off\n",
    "\n",
    "fig = plt.imshow(n)\n",
    "fig.set_cmap('winter')\n",
    "plt.colorbar()\n",
    "plt.axis('off')\n",
    "\n",
    "# Display the results\n",
    "plt.show()"
   ]
  }
 ],
 "metadata": {
  "kernelspec": {
   "display_name": "Python 3",
   "language": "python",
   "name": "python3"
  },
  "language_info": {
   "codemirror_mode": {
    "name": "ipython",
    "version": 3
   },
   "file_extension": ".py",
   "mimetype": "text/x-python",
   "name": "python",
   "nbconvert_exporter": "python",
   "pygments_lexer": "ipython3",
   "version": "3.6.3"
  }
 },
 "nbformat": 4,
 "nbformat_minor": 2
}
